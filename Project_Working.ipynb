{
 "cells": [
  {
   "cell_type": "markdown",
   "id": "1d983380",
   "metadata": {},
   "source": [
    "# Factors Affecting Health and Fitness"
   ]
  },
  {
   "cell_type": "markdown",
   "id": "957e3b4d",
   "metadata": {},
   "source": [
    "## Import Countries.csv and clean the DataFrame"
   ]
  },
  {
   "cell_type": "code",
   "execution_count": null,
   "id": "f9e52b4d",
   "metadata": {},
   "outputs": [],
   "source": [
    "import pandas as pd\n",
    "import matplotlib.pyplot as plt\n",
    "import numpy as np\n",
    "import statsmodels.api as sm\n",
    "import seaborn as sns\n",
    "import scipy.stats as st\n",
    "\n",
    "# Replace 'filename.csv' with the path to your CSV file\n",
    "df = pd.read_csv('countries.csv')\n",
    "\n",
    "# Display the first few rows of the DataFrame\n",
    "df.head()"
   ]
  },
  {
   "cell_type": "code",
   "execution_count": null,
   "id": "70cee53a",
   "metadata": {},
   "outputs": [],
   "source": [
    "# Clear out unnecessary columns\n",
    "df = df[['Country', \n",
    "                             'People and Society: Population', \n",
    "                             'People and Society: Median age - total', \n",
    "                             'People and Society: Obesity - adult prevalence rate', \n",
    "                             'Economy: Real GDP per capita']]\n",
    "df"
   ]
  },
  {
   "cell_type": "code",
   "execution_count": null,
   "id": "a4830845",
   "metadata": {
    "scrolled": true
   },
   "outputs": [],
   "source": [
    "# Remove parentheses and everything inside them from the \"Economy: Real GDP per capita\" column\n",
    "df['Economy: Real GDP per capita'] = df['Economy: Real GDP per capita'].str.replace(r'\\(.*\\)', '')\n",
    "\n",
    "\n",
    "# Split each cell into multiple columns using the \"$\" character as the separator\n",
    "df_new = df['Economy: Real GDP per capita'].str.split('$', expand=True)\n",
    "\n",
    "# Keep only the first column containing the desired data and rename the column\n",
    "\n",
    "df_new = df_new[[0]].rename(columns={0: 'New_Column_Name'})\n",
    "\n",
    "# Merge the modified column back into the original dataframe\n",
    "df = pd.concat([df, df_new], axis=1)\n",
    "\n",
    "# Remove the final column and show the dataframe\n",
    "countries_df = df.drop(columns=['New_Column_Name'])\n",
    "\n",
    "countries_df = countries_df.rename(columns={'People and Society: Obesity - adult prevalence rate': 'Obesity Rate in Adults (2016)'})\n",
    "\n",
    "countries_df['Obesity Rate in Adults (2016)'] = countries_df['Obesity Rate in Adults (2016)'].str.replace('\\s*\\(\\d{4}\\)', '', regex=True)\n"
   ]
  },
  {
   "cell_type": "code",
   "execution_count": null,
   "id": "80e772bf",
   "metadata": {},
   "outputs": [],
   "source": [
    "countries_df"
   ]
  },
  {
   "cell_type": "markdown",
   "id": "831a435a",
   "metadata": {},
   "source": [
    "## Bring in World Happiness Report"
   ]
  },
  {
   "cell_type": "code",
   "execution_count": null,
   "id": "34c49604",
   "metadata": {},
   "outputs": [],
   "source": [
    "whr21_df = pd.read_csv('world-happiness-report-2021.csv')\n",
    "\n",
    "whr21_df"
   ]
  },
  {
   "cell_type": "code",
   "execution_count": null,
   "id": "2535406e",
   "metadata": {},
   "outputs": [],
   "source": [
    "whr21_df2 = whr21_df[['Country name', \n",
    "                      'Healthy life expectancy', \n",
    "                      'Ladder score']]\n",
    "\n",
    "whr21_df2 = whr21_df2.rename(columns={'Country name': 'Country'})\n",
    "\n",
    "whr21_df2"
   ]
  },
  {
   "cell_type": "markdown",
   "id": "dafa024f",
   "metadata": {},
   "source": [
    "## Bring in GymData"
   ]
  },
  {
   "cell_type": "code",
   "execution_count": null,
   "id": "a968131f",
   "metadata": {},
   "outputs": [],
   "source": [
    "gd_df = pd.read_csv('gym_data.csv')\n",
    "\n",
    "# Display the first few rows of the DataFrame\n",
    "gd_df.head()"
   ]
  },
  {
   "cell_type": "code",
   "execution_count": null,
   "id": "42ca0b0a",
   "metadata": {},
   "outputs": [],
   "source": [
    "gym_data_df = gd_df[['Country', \n",
    "                     'Total Number of Gyms', \n",
    "                     'Total Members', \n",
    "                     'Members Per Gym', \n",
    "                     'Annual Revenue Per Member']]\n",
    "\n",
    "gym_data_df = gym_data_df.dropna()\n",
    "gym_data_df['Annual Revenue Per Member'] = gym_data_df['Annual Revenue Per Member'].str.replace('$', '').str.replace(',', '').str.strip()\n",
    "gym_data_df['Annual Revenue Per Member'] = gym_data_df['Annual Revenue Per Member'].astype(float)\n",
    "\n",
    "\n",
    "gym_data_df"
   ]
  },
  {
   "cell_type": "markdown",
   "id": "7bad2993",
   "metadata": {},
   "source": [
    "## Bring in AQI"
   ]
  },
  {
   "cell_type": "code",
   "execution_count": null,
   "id": "1a6bb2d5",
   "metadata": {},
   "outputs": [],
   "source": [
    "AQI_city_df = pd.read_csv('AQI_by_city.csv')\n",
    "\n",
    "AQI_city_df = AQI_city_df.rename(columns={'2021' : '2021 AQI'})\n",
    "\n",
    "AQI_city_df"
   ]
  },
  {
   "cell_type": "code",
   "execution_count": null,
   "id": "0e598b01",
   "metadata": {},
   "outputs": [],
   "source": [
    "split_data = AQI_city_df['City'].str.split(',', expand=True)\n",
    "\n",
    "AQI_city_df.drop('City', axis=1, inplace=True)\n",
    "\n",
    "# Insert the new columns into the original DataFrame\n",
    "AQI_city_df.insert(loc=1, column='City', value=split_data[0])\n",
    "AQI_city_df.insert(loc=2, column='Country', value=split_data[1])\n",
    "\n",
    "\n",
    "#Rename Column\n",
    "AQI_city_df"
   ]
  },
  {
   "cell_type": "code",
   "execution_count": null,
   "id": "8d523522",
   "metadata": {},
   "outputs": [],
   "source": [
    "AQI_city_df2 = AQI_city_df[['City',\n",
    "                           'Country', \n",
    "                           '2021 AQI', \n",
    "                     ]]\n",
    "AQI_city_df2"
   ]
  },
  {
   "cell_type": "code",
   "execution_count": null,
   "id": "9b63865d",
   "metadata": {},
   "outputs": [],
   "source": [
    "# Compute the average AQI for each country\n",
    "avg_aqi_by_country = AQI_city_df.groupby(['Country'])['2021 AQI'].mean().reset_index()\n",
    "\n",
    "# Rename the '2021 AQI' column to 'Average AQI'\n",
    "avg_aqi_by_country = avg_aqi_by_country.rename(columns={'2021 AQI': 'Average AQI (2021)'})\n",
    "\n",
    "avg_aqi_by_country"
   ]
  },
  {
   "cell_type": "markdown",
   "id": "0187f980",
   "metadata": {},
   "source": [
    "## Merge the DataFrames"
   ]
  },
  {
   "cell_type": "code",
   "execution_count": null,
   "id": "a46f5e4f",
   "metadata": {},
   "outputs": [],
   "source": [
    "merged_df = pd.merge(gym_data_df, countries_df, on='Country')\n",
    "\n",
    "merged_df['Economy: Real GDP per capita'] = merged_df['Economy: Real GDP per capita'].str.replace('$', '').str.replace(',', '').str.strip().astype(float)\n",
    "\n",
    "merged_df"
   ]
  },
  {
   "cell_type": "code",
   "execution_count": null,
   "id": "d60e91d3",
   "metadata": {},
   "outputs": [],
   "source": [
    "merged_df2 = pd.merge(merged_df, whr21_df2, on='Country')\n",
    "\n",
    "merged_df2 = merged_df2.rename(columns={'Ladder score': 'World Happiness Score'})\n",
    "\n",
    "merged_df2"
   ]
  },
  {
   "cell_type": "code",
   "execution_count": null,
   "id": "1008fdd1",
   "metadata": {},
   "outputs": [],
   "source": [
    "merged_df3 = merged_df2.merge(avg_aqi_by_country, on='Country', how='left')\n",
    "\n",
    "merged_df3['Obesity Rate in Adults (2016)'] = merged_df3['Obesity Rate in Adults (2016)'].str.replace('%', '').str.strip()\n",
    "merged_df3['Obesity Rate in Adults (2016)'] = merged_df3['Obesity Rate in Adults (2016)'].astype(float)\n",
    "merged_df3['Average AQI (2021)'] = merged_df3['Average AQI (2021)'].astype(float)\n",
    "merged_df3[\"Average AQI (2021)\"] = merged_df3[\"Average AQI (2021)\"].round(1)\n",
    "\n",
    "merged_df3"
   ]
  },
  {
   "cell_type": "markdown",
   "id": "b6f8b81f",
   "metadata": {},
   "source": [
    "# 1) Does the environment of a country affect its’ citizens life expectancy?"
   ]
  },
  {
   "cell_type": "markdown",
   "id": "e1ab862d",
   "metadata": {},
   "source": [
    "Create a Scatter Plot of AQI vs Healthy Life Expectancy"
   ]
  },
  {
   "cell_type": "code",
   "execution_count": null,
   "id": "6f2f4507",
   "metadata": {},
   "outputs": [],
   "source": [
    "# Create a Scatter plot of AQI vs Healthy life expectancy\n",
    "merged_df4 = merged_df3.dropna(subset=['Average AQI (2021)'])\n",
    "\n",
    "plt.scatter(merged_df4['Average AQI (2021)'], merged_df4['Healthy life expectancy'])\n",
    "plt.xlabel('Average AQI')\n",
    "plt.ylabel('Healthy life expectancy')\n",
    "plt.title('AQI vs Healthy life expectancy')\n",
    "\n",
    "# Create line of best fit\n",
    "x = merged_df4['Average AQI (2021)']\n",
    "y = merged_df4['Healthy life expectancy']\n",
    "m, b = np.polyfit(x, y, 1)\n",
    "plt.plot(x, m*x + b, color='red')\n",
    "\n",
    "\n",
    "# Add constant to X array for intercept term\n",
    "X = sm.add_constant(x)\n",
    "\n",
    "# Fit linear regression model using statsmodels\n",
    "model = sm.OLS(y, X).fit()\n",
    "\n",
    "# Get regression statistics\n",
    "slope = model.params[1]\n",
    "intercept = model.params[0]\n",
    "r_squared = model.rsquared\n",
    "p_value = model.f_pvalue\n",
    "std_error = model.bse[1]\n",
    "\n",
    "# Print regression statistics\n",
    "print(f\"Slope: {slope}\")\n",
    "print(f\"Intercept: {intercept}\")\n",
    "print(f\"R-squared score: {r_squared}\")\n",
    "print(f\"P-value: {p_value}\")\n",
    "print(f\"Standard error: {std_error}\")\n",
    "\n",
    "\n",
    "plt.show()"
   ]
  },
  {
   "cell_type": "markdown",
   "id": "6a7e14ca",
   "metadata": {},
   "source": [
    "Based on the regression statistics, we can see that the slope of the line of best fit is negative (-0.082), indicating that as the average AQI (air quality index) score increases, the healthy life expectancy decreases. However, the R-squared value is quite low (0.048), which suggests that only a small proportion of the variance in healthy life expectancy can be explained by changes in AQI. Additionally, the p-value (0.313) is greater than 0.05, which means that the relationship between AQI and healthy life expectancy may not be statistically significant. Therefore, we cannot definitively conclude that the environment of a country affects their life expectancy based on this analysis alone."
   ]
  },
  {
   "cell_type": "markdown",
   "id": "aed100b3",
   "metadata": {},
   "source": [
    "Bar Chart of AQI by Country"
   ]
  },
  {
   "cell_type": "code",
   "execution_count": null,
   "id": "c316cca5",
   "metadata": {},
   "outputs": [],
   "source": [
    "# Bar Chart of AQI by Country\n",
    "plt.bar(merged_df4['Country'], merged_df4['Average AQI (2021)'])\n",
    "plt.xticks(rotation=90)\n",
    "plt.xlabel('Country')\n",
    "plt.ylabel('Average AQI')\n",
    "plt.show()"
   ]
  },
  {
   "cell_type": "markdown",
   "id": "211745a6",
   "metadata": {},
   "source": [
    "# 2) Do health levels correlate to the level of happiness listed for each country?"
   ]
  },
  {
   "cell_type": "code",
   "execution_count": null,
   "id": "fef348ad",
   "metadata": {},
   "outputs": [],
   "source": [
    "#create a a code to determine the correlation between Health Levels and happiness.\n",
    "correlation = st.pearsonr(whr21_df2[\"Healthy life expectancy\"],whr21_df2[\"Ladder score\"])\n",
    "print(f\"The correlation between Healthy life expectancy and happiness Ladder score is {round(correlation[0],2)}\")"
   ]
  },
  {
   "cell_type": "code",
   "execution_count": null,
   "id": "be551139",
   "metadata": {},
   "outputs": [],
   "source": [
    "# Create a scatter plot of the positive correlation betwee a healthy life expectancy and happiness\n",
    "\n",
    "(slope, intercept,rvalue, pvalue, stderr) = st.linregress(whr21_df2[\"Healthy life expectancy\"],whr21_df2[\"Ladder score\"])\n",
    "regress_values=whr21_df2[\"Healthy life expectancy\"]* slope + intercept\n",
    "line_eq= f\"y = {round(slope, 2)} x + {round(intercept, 2)}\"\n",
    "\n",
    "plt.scatter(whr21_df2[\"Healthy life expectancy\"],whr21_df2[\"Ladder score\"],color='b')\n",
    "plt.plot(whr21_df2[\"Healthy life expectancy\"], regress_values, color='red')\n",
    "plt.annotate(line_eq,(2,4), fontsize=13)\n",
    "plt.xlabel(\"Healthy life expectancy\")\n",
    "plt.ylabel(\"Ladder score\")\n",
    "plt.title(\"Healthy life expectancy vs World happiness score\")\n",
    "print(f\"The r-squared is: {round(rvalue**2,3)}\")\n",
    "plt.show()"
   ]
  },
  {
   "cell_type": "markdown",
   "id": "0f7f1400",
   "metadata": {},
   "source": [
    "# 3) Does the amount of gyms per country have any correlation to life expectancy?"
   ]
  },
  {
   "cell_type": "code",
   "execution_count": null,
   "id": "66cc2ee0",
   "metadata": {},
   "outputs": [],
   "source": [
    "#what is the correlation between life expectancy and number of gyms using a scatter plot \n",
    "life_gym = plt.scatter(merged_df3[\"Total Number of Gyms\"],merged_df3[\"Healthy life expectancy\"])\n",
    "\n",
    "\n",
    "plt.title('Correlation between the Number of Gyms and Healthy Life Expectancy')\n",
    "plt.xlabel(\"Total Number of Gyms\")\n",
    "plt.ylabel(\"Healthy Life Expectancy\")\n",
    "plt.xticks(rotation=90)"
   ]
  },
  {
   "cell_type": "code",
   "execution_count": null,
   "id": "a460c07e",
   "metadata": {},
   "outputs": [],
   "source": [
    "merged_df2.plot('Total Number of Gyms', 'Healthy life expectancy')"
   ]
  },
  {
   "cell_type": "markdown",
   "id": "a6897543",
   "metadata": {},
   "source": [
    "# 4) Is the cost of a gym membership prohibitive when compared to GDP per Capita and does that affect Obesity ? "
   ]
  },
  {
   "cell_type": "markdown",
   "id": "2089728c",
   "metadata": {},
   "source": [
    "Regression: GDP per Capita vs. Annual Revenue per Member"
   ]
  },
  {
   "cell_type": "code",
   "execution_count": null,
   "id": "4eb88080",
   "metadata": {},
   "outputs": [],
   "source": [
    "x = merged_df3['Economy: Real GDP per capita']\n",
    "y = merged_df3['Annual Revenue Per Member']\n",
    "\n",
    "# Fit a linear regression to the data\n",
    "slope, intercept, r_value, p_value, std_err = st.linregress(x, y)\n",
    "\n",
    "# Create a scatter plot of the data\n",
    "plt.scatter(x, y)\n",
    "\n",
    "# Plot the regression line\n",
    "plt.plot(x, slope*x + intercept, color='red')\n",
    "\n",
    "# Add axis labels and title\n",
    "plt.xlabel('GDP per Capita')\n",
    "plt.ylabel('Annual Revenue per Member')\n",
    "plt.title('GDP per Capita vs. Annual Revenue per Member')\n",
    "\n",
    "# Print the relevant statistics\n",
    "print(f\"Slope: {slope}\")\n",
    "print(f\"Intercept: {intercept}\")\n",
    "print(f\"R-squared score: {r_value**2}\")\n",
    "print(f\"P-value: {p_value}\")\n",
    "print(f\"Standard error: {std_err}\")\n",
    "\n",
    "# Display the plot\n",
    "plt.show()"
   ]
  },
  {
   "cell_type": "markdown",
   "id": "6d3966c4",
   "metadata": {},
   "source": [
    "Based on the linear regression results provided, the slope is 0.0055, which indicates that there is a positive relationship between GDP per capita and the annual revenue per member of the gym. The intercept is 296.73, which means that even if the GDP per capita is zero, the expected annual revenue per member of the gym is $296.73.\n",
    "\n",
    "The R-squared score is 0.46, which means that 46% of the variation in the annual revenue per member can be explained by the variation in GDP per capita.\n",
    "\n",
    "The p-value is 1.38e-05, which is smaller than the significance level of 0.05, indicating that the slope is statistically significant, and that GDP per capita has a significant effect on the annual revenue per member.\n",
    "\n",
    "Therefore, based on these results, we can conclude that the cost of a gym membership begins at a fairly prohibitive level when compared to GDP per capita. One would hope that after starting out at a price point of almost $300 per year, the price would stay fairly steady. But to the contrary, as GDP per Capita increases, the price increases at a high rate as well."
   ]
  },
  {
   "cell_type": "markdown",
   "id": "0b8045dc",
   "metadata": {},
   "source": [
    "Regression: Healthy life expectancy vs Economy: Real GDP per capita"
   ]
  },
  {
   "cell_type": "code",
   "execution_count": null,
   "id": "c8cf86f9",
   "metadata": {},
   "outputs": [],
   "source": [
    "#LINEAR REGRESSION\n",
    "# Extract the data from the dataframe\n",
    "x = merged_df3['Economy: Real GDP per capita'].values\n",
    "y = merged_df3['Healthy life expectancy'].values\n",
    "\n",
    "# Calculate the slope and intercept of the regression line\n",
    "slope, intercept = np.polyfit(x, y, 1)\n",
    "\n",
    "# Make predictions using the regression line\n",
    "y_pred = slope * x + intercept\n",
    "\n",
    "# Calculate the R-squared score\n",
    "r_squared = 1 - np.sum((y - y_pred)**2) / np.sum((y - np.mean(y))**2)\n",
    "\n",
    "# Print the results\n",
    "print('Slope:', slope)\n",
    "print('Intercept:', intercept)\n",
    "print('R-squared score:', r_squared)\n",
    "\n",
    "\n",
    "# Create scatter plot\n",
    "x = merged_df3['Economy: Real GDP per capita']\n",
    "y = merged_df3['Healthy life expectancy']\n",
    "plt.scatter(x, y)\n",
    "\n",
    "# Add regression line to plot\n",
    "plt.plot(x, y_pred, color='red')\n",
    "\n",
    "# Add axis labels and title\n",
    "plt.xlabel('Economy: Real GDP per capita')\n",
    "plt.ylabel('Healthy life expectancy')\n",
    "plt.title('Healthy life expectancy vs Economy: Real GDP per capita')\n",
    "\n",
    "# Display plot\n",
    "plt.show()"
   ]
  },
  {
   "cell_type": "markdown",
   "id": "67a84341",
   "metadata": {},
   "source": [
    "Based on the findings from the linear regression analysis of healthy life expectancy vs real GDP per capita, the slope of the regression line is 9.501174622525271e-05, indicating that for every unit increase in real GDP per capita, there is an increase of approximately 9.5e-05 units in healthy life expectancy. The intercept of the regression line is 65.23182121314176, meaning that when real GDP per capita is zero, the predicted healthy life expectancy is approximately 65.23 years.\n",
    "\n",
    "The R-squared score of 0.44321444068667604 suggests that the linear regression model explains approximately 44.3% of the variability in the data. This means that there are other factors that contribute to healthy life expectancy beyond just real GDP per capita.\n",
    "\n",
    "In conclusion, this analysis suggests that there is a positive relationship between real GDP per capita and healthy life expectancy, but the relationship is not perfect. Other factors such as healthcare, education, and lifestyle choices may also play a role in determining healthy life expectancy. This finding could be useful for policymakers and healthcare professionals to consider when developing strategies to improve public health and well-being."
   ]
  },
  {
   "cell_type": "markdown",
   "id": "f0eb9583",
   "metadata": {},
   "source": [
    "Regression: GDP per Capita vs. Obesity Rate"
   ]
  },
  {
   "cell_type": "code",
   "execution_count": null,
   "id": "563d431f",
   "metadata": {},
   "outputs": [],
   "source": [
    "# Extract the X and Y values from your data\n",
    "x = merged_df3['Economy: Real GDP per capita']\n",
    "y = merged_df3['Obesity Rate in Adults (2016)']\n",
    "\n",
    "# Fit a linear regression to the data\n",
    "slope, intercept, r_value, p_value, std_err = st.linregress(x, y)\n",
    "\n",
    "# Create a scatter plot of the data\n",
    "plt.scatter(x, y)\n",
    "\n",
    "# Plot the regression line\n",
    "plt.plot(x, intercept + slope*x, color='red')\n",
    "\n",
    "# Add axis labels and title\n",
    "plt.xlabel('GDP per Capita')\n",
    "plt.ylabel('Obesity Rate')\n",
    "plt.title('GDP per Capita vs. Obesity Rate')\n",
    "\n",
    "# Display the plot\n",
    "plt.show()\n",
    "\n",
    "# Print the statistics\n",
    "print(\"Slope:\", slope)\n",
    "print(\"Intercept:\", intercept)\n",
    "print(\"R-squared score:\", r_value**2)\n",
    "print(\"P-value:\", p_value)\n",
    "print(\"Standard error:\", std_err)"
   ]
  },
  {
   "cell_type": "markdown",
   "id": "da9d158d",
   "metadata": {},
   "source": [
    "Based on the findings from the linear regression analysis of GDP per Capita vs. Obesity Rate, the slope of the regression line indicates that for every unit increase in GDP per Capita, there is an increase of approximately 1.39e-05 units in Obesity Rate. The intercept of the regression line is 21.89, meaning that when GDP per Capita is zero, the predicted Obesity Rate is approximately 21.90%.\n",
    "\n",
    "The R-squared score of 0.0018 suggests that the linear regression model explains only approximately 0.18% of the variability in the data. This means that GDP per Capita is not a strong predictor of Obesity Rate.\n",
    "\n",
    "The P-value of 0.8123972454287824 suggests that the slope of the regression line is not statistically significant at the 5% level. This means that there is insufficient evidence to reject the null hypothesis that the slope is equal to zero.\n",
    "\n",
    "In conclusion, this analysis suggests that there is a weak and statistically insignificant relationship between GDP per Capita and Obesity Rate. Other factors such as cultural and dietary habits, lifestyle choices, and healthcare accessibility may play a more significant role in determining Obesity Rate. This finding could be useful for policymakers and healthcare professionals to consider when developing strategies to address the issue of obesity."
   ]
  },
  {
   "cell_type": "markdown",
   "id": "89b9fd85",
   "metadata": {},
   "source": [
    "# 5) Does having a higher number of hours worked effect happiness/gym availability/obesity levels?"
   ]
  },
  {
   "cell_type": "code",
   "execution_count": null,
   "id": "5844331a",
   "metadata": {},
   "outputs": [],
   "source": [
    "# create df showcasing Country, Members per Gym, Work happiness Score and Obesity rate in adults.\n",
    "merged_df5 = merged_df3[[\"Country\", \"Members Per Gym\",\"World Happiness Score\",\"Obesity Rate in Adults (2016)\"]]\n",
    "\n",
    "merged_df5"
   ]
  },
  {
   "cell_type": "code",
   "execution_count": null,
   "id": "6831b0e8",
   "metadata": {},
   "outputs": [],
   "source": [
    "# Create Visualization 5) Does having a higher number of obesity levels  affect happiness, and gym availability?\n",
    "\n",
    "# Create a sample dataset with 5 columns\n",
    "pulled_data = pd.DataFrame(np.random.randn(100, 4), columns=[\"Country\", \"World Happiness Score\", \n",
    "                                                             \"Obesity Rate in Adults (2016)\", \"Total Members\"])\n",
    "\n",
    "\n",
    "# Compute the correlation matrix\n",
    "corr = merged_df3.corr()\n",
    "\n",
    "# Generate a mask for the upper triangle\n",
    "mask = np.triu(np.ones_like(corr, dtype=bool))\n",
    "\n",
    "# Set up the matplotlib figure\n",
    "fig, ax = plt.subplots(figsize=(8, 6))\n",
    "\n",
    "# Generate a custom diverging colormap\n",
    "cmap = sns.diverging_palette(230, 20, as_cmap=True)\n",
    "\n",
    "# Draw the heatmap with the mask and correct aspect ratio\n",
    "sns.heatmap(corr, mask=mask, cmap=cmap, vmax= 1.0, center=0, square=True, linewidths=.5, cbar_kws={\"shrink\": .5})\n",
    "\n",
    "# Show the plot\n",
    "plt.show()"
   ]
  }
 ],
 "metadata": {
  "kernelspec": {
   "display_name": "Python 3 (ipykernel)",
   "language": "python",
   "name": "python3"
  },
  "language_info": {
   "codemirror_mode": {
    "name": "ipython",
    "version": 3
   },
   "file_extension": ".py",
   "mimetype": "text/x-python",
   "name": "python",
   "nbconvert_exporter": "python",
   "pygments_lexer": "ipython3",
   "version": "3.10.9"
  }
 },
 "nbformat": 4,
 "nbformat_minor": 5
}
